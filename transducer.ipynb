{
 "cells": [
  {
   "cell_type": "code",
   "execution_count": 1,
   "metadata": {},
   "outputs": [],
   "source": [
    "import numpy as np\n",
    "import torch\n",
    "import matplotlib.pyplot as plt"
   ]
  },
  {
   "cell_type": "code",
   "execution_count": 132,
   "metadata": {},
   "outputs": [],
   "source": [
    "class TransducerLoss(torch.nn.Module):\n",
    "    def __init__(self):\n",
    "        super(TransducerLoss, self).__init__()\n",
    "        \n",
    "    def show_alignment(self, log_alpha):\n",
    "        plt.imshow(log_alpha.cpu().data.numpy().transpose()); plt.show()\n",
    "    \n",
    "    def compute_log_alpha_and_log_prob(self, encoder_out, decoder_out, y, blank):\n",
    "        \"\"\"\n",
    "        encoder_out: FloatTensor (T, #labels)\n",
    "        decoder_out: FloatTensor (U+1, #labels)\n",
    "        y: LongTensor (U,)\n",
    "        blank: int\n",
    "        \"\"\"\n",
    "        T = len(encoder_out)\n",
    "        U = len(y)\n",
    "        \n",
    "        log_alphas = []\n",
    "        for t in range(T):\n",
    "            log_alpha_t = torch.zeros(U+1)\n",
    "            \n",
    "            for u in range(U + 1):\n",
    "                if u == 0:\n",
    "                    if t == 0:\n",
    "                        log_alpha_t[u] = 0.\n",
    "                    else: #t > 0\n",
    "                        null_t_1_0 = encoder_out[t-1, blank] + decoder_out[0, blank]\n",
    "                        log_alpha_t[u] = log_alpha_t_1[0] + null_t_1_0\n",
    "                        \n",
    "                else: #u > 0\n",
    "                    if t == 0:\n",
    "                        y_0_u_1 = encoder_out[0, y[u-1]] + decoder_out[u-1, y[u-1]]\n",
    "                        log_alpha_t[u] = log_alpha_t[u-1] + y_0_u_1\n",
    "                    else: #t > 0\n",
    "                        y_t_u_1 = encoder_out[t, y[u-1]] + decoder_out[u-1, y[u-1]]\n",
    "                        null_t_1_u = encoder_out[t-1, blank] + decoder_out[u, blank]\n",
    "                        \n",
    "                        log_alpha_t[u] = torch.logsumexp(torch.tensor([\n",
    "                            log_alpha_t_1[u] + null_t_1_u,\n",
    "                            log_alpha_t[u-1] + y_t_u_1 \n",
    "                        ]), dim=0)\n",
    "                        print(\"grad?\", log_alpha_t[u].requires_grad)\n",
    "                                \n",
    "            log_alphas.append(log_alpha_t)\n",
    "            log_alpha_t_1 = log_alphas[-1]\n",
    "            #print(log_alphas[-1])\n",
    "            \n",
    "        log_alpha = torch.stack(log_alphas)\n",
    "        null_T_1_U = encoder_out[T-1, blank] + decoder_out[U, blank]\n",
    "        log_p_y_x = log_alpha[T-1,U] + null_T_1_U\n",
    "        return log_alpha, log_p_y_x\n",
    "    \n",
    "    def forward(self,encoder_out,decoder_out,targets,input_lengths,target_lengths,reduction=\"none\",blank=0):\n",
    "        \"\"\"\n",
    "        encoder_out: FloatTensor (N, max(input_lengths), #labels)\n",
    "        decoder_out: FloatTensor (N, max(target_lengths)+1, #labels)\n",
    "        targets: LongTensor (N, max(target_lengths))\n",
    "        input_lengths: LongTensor (N)\n",
    "        target_lengths: LongTensor (N)\n",
    "        reduction: \"none\", \"avg\"\n",
    "        blank: int\n",
    "        \"\"\"\n",
    "        batch_size = len(input_lengths)\n",
    "        losses = []\n",
    "        for i in range(0, batch_size):\n",
    "            encoder_out_ = encoder_out[i, :input_lengths[i], :]\n",
    "            decoder_out_ = decoder_out[i, :target_lengths[i]+1, :]\n",
    "            y = targets[i, :target_lengths[i]]\n",
    "            log_alpha, log_p_y_x = self.compute_log_alpha_and_log_prob(encoder_out_, decoder_out_, y, blank)\n",
    "            self.show_alignment(log_alpha)\n",
    "            loss = -log_p_y_x # TODO \n",
    "            losses.append(loss)\n",
    "        losses = torch.stack(losses)\n",
    "        if reduction==\"none\": return losses\n",
    "        if reduction==\"avg\": return losses.mean()\n",
    "        "
   ]
  },
  {
   "cell_type": "code",
   "execution_count": 85,
   "metadata": {},
   "outputs": [
    {
     "name": "stdout",
     "output_type": "stream",
     "text": [
      "tensor([[1, 1, 0]])\n",
      "torch.Size([1, 4, 5])\n",
      "torch.Size([1, 4, 5])\n"
     ]
    }
   ],
   "source": [
    "num_labels = 5\n",
    "blank_index = num_labels-1 # last output = blank\n",
    "batch_size = 1\n",
    "pad = -1\n",
    "T = torch.LongTensor([4])\n",
    "U = torch.LongTensor([3])\n",
    "y = torch.randint(low=0,high=num_labels-1,size=(U[0],)).unsqueeze(0).long()\n",
    "print(y)\n",
    "\n",
    "encoder_out = torch.randn(batch_size, max(T), num_labels).log_softmax(2).detach().requires_grad_()\n",
    "decoder_out = torch.randn(batch_size, max(U)+1, num_labels).log_softmax(2).detach().requires_grad_()\n",
    "print(encoder_out.shape)\n",
    "print(decoder_out.shape)\n"
   ]
  },
  {
   "cell_type": "code",
   "execution_count": 73,
   "metadata": {},
   "outputs": [
    {
     "name": "stdout",
     "output_type": "stream",
     "text": [
      "CTCModel(\n",
      "  (encoder): Encoder(\n",
      "    (layers): ModuleList(\n",
      "      (0): ComputeFBANK()\n",
      "      (1): Conv(\n",
      "        (conv): Conv1d(80, 512, kernel_size=(11,), stride=(2,))\n",
      "      )\n",
      "      (2): LeakyReLU(negative_slope=0.125)\n",
      "      (3): GRU(512, 512, batch_first=True, bidirectional=True)\n",
      "      (4): RNNOutputSelect()\n",
      "      (5): Dropout(p=0.2, inplace=False)\n",
      "      (6): Linear(in_features=1024, out_features=512, bias=True)\n",
      "      (7): LeakyReLU(negative_slope=0.125)\n",
      "      (8): Downsample()\n",
      "      (9): GRU(512, 512, batch_first=True, bidirectional=True)\n",
      "      (10): RNNOutputSelect()\n",
      "      (11): Dropout(p=0.2, inplace=False)\n",
      "      (12): Linear(in_features=1024, out_features=512, bias=True)\n",
      "      (13): LeakyReLU(negative_slope=0.125)\n",
      "      (14): GRU(512, 512, batch_first=True, bidirectional=True)\n",
      "      (15): RNNOutputSelect()\n",
      "      (16): Dropout(p=0.2, inplace=False)\n",
      "      (17): Linear(in_features=1024, out_features=512, bias=True)\n",
      "      (18): LeakyReLU(negative_slope=0.125)\n",
      "      (19): Linear(in_features=512, out_features=1001, bias=True)\n",
      "      (20): LogSoftmax()\n",
      "    )\n",
      "  )\n",
      ")\n",
      "[26, 464, 33, 86, 115, 8, 86, 10, 9, 14, 3, 55, 20, 5, 379, 7, 81, 8, 10, 358, 8]\n",
      "HE COMPUTER COULDETERNALS ON IN THE KITCHENPLEE\n",
      "[26, 23, 464, 33, 86, 115, 38, 549, 5, 368, 3, 55, 20, 5, 379, 7, 81, 8, 10, 779]\n",
      "HEY COMPUTER COULD YOU TURN THE LIGHTS ON IN THE KITCHEN PLEASE\n",
      "torch.Size([1, 90, 1001])\n",
      "torch.Size([1, 21, 1001])\n",
      "tensor([[ 26,  23, 464,  33,  86, 115,  38, 549,   5, 368,   3,  55,  20,   5,\n",
      "         379,   7,  81,   8,  10, 779]])\n",
      "tensor([20])\n"
     ]
    }
   ],
   "source": [
    "# use pre-trained CTC model\n",
    "from models import CTCModel\n",
    "from data import read_config\n",
    "import sentencepiece as spm\n",
    "import soundfile as sf\n",
    "\n",
    "config = read_config(\"experiments/80_mel.cfg\")\n",
    "model = CTCModel(config=config).eval()\n",
    "model.load_pretrained(\"experiments/80_mel/training/best_model.pth\")\n",
    "print(model)\n",
    "\n",
    "tokenizer = spm.SentencePieceProcessor()\n",
    "tokenizer.Load(\"tokenizer_1000_tokens.model\")\n",
    "\n",
    "x,fs = sf.read(\"../end-to-end-SLU/test.wav\")\n",
    "x = torch.tensor(x).unsqueeze(0).float()\n",
    "\n",
    "guess = model.infer(x)[0]\n",
    "truth = \"HEY COMPUTER COULD YOU TURN THE LIGHTS ON IN THE KITCHEN PLEASE\"\n",
    "print(guess)\n",
    "print(tokenizer.DecodeIds(guess))\n",
    "print(tokenizer.EncodeAsIds(truth))\n",
    "print(truth)\n",
    "\n",
    "encoder_out = model.encoder.forward(x, T=None).detach().requires_grad_()\n",
    "print(encoder_out.shape)\n",
    "num_labels = encoder_out.shape[2]\n",
    "blank_index = num_labels-1\n",
    "T = torch.LongTensor([encoder_out.shape[1]])\n",
    "U = torch.LongTensor([ len(tokenizer.EncodeAsIds(truth)) ]) #torch.LongTensor([ len(guess) ])#\n",
    "y = torch.LongTensor([ tokenizer.EncodeAsIds(truth) ]) #torch.LongTensor([ guess ]) #\n",
    "decoder_out = torch.ones(batch_size, max(U)+1, num_labels).log_softmax(2).detach().requires_grad_()\n",
    "print(decoder_out.shape)\n",
    "print(y)\n",
    "print(U)"
   ]
  },
  {
   "cell_type": "code",
   "execution_count": 133,
   "metadata": {
    "scrolled": false
   },
   "outputs": [
    {
     "name": "stdout",
     "output_type": "stream",
     "text": [
      "grad? True\n",
      "grad? True\n",
      "grad? True\n",
      "grad? True\n",
      "grad? True\n",
      "grad? True\n",
      "grad? True\n",
      "grad? True\n",
      "grad? True\n"
     ]
    },
    {
     "data": {
      "image/png": "[encoded data removed]",
      "text/plain": [
       "<Figure size 432x288 with 1 Axes>"
      ]
     },
     "metadata": {
      "needs_background": "light"
     },
     "output_type": "display_data"
    },
    {
     "name": "stdout",
     "output_type": "stream",
     "text": [
      "loss: tensor([17.1863], grad_fn=<StackBackward>)\n",
      "encoder_out:\n",
      "tensor([[[-2.4385, -0.9986, -1.4343, -1.4312, -2.7029],\n",
      "         [-1.5404, -2.4761, -2.3677, -1.3246, -1.0729],\n",
      "         [-1.1763, -2.3296, -2.4474, -0.9827, -2.0143],\n",
      "         [-2.0739, -0.7276, -3.6199, -1.4567, -2.0293]]], requires_grad=True)\n",
      "encoder grad:\n",
      "tensor([[[0., 0., 0., 0., 0.],\n",
      "         [0., 0., 0., 0., 0.],\n",
      "         [0., 0., 0., 0., 0.],\n",
      "         [0., 0., 0., 0., 0.]]])\n",
      "decoder_out:\n",
      "tensor([[[-0.4742, -1.5350, -3.3044, -2.6491, -2.9054],\n",
      "         [-1.2321, -1.6010, -0.9235, -3.6830, -2.4730],\n",
      "         [-0.8887, -1.6250, -2.8752, -1.5861, -2.0342],\n",
      "         [-1.3976, -3.3767, -0.7767, -3.3085, -1.5044]]], requires_grad=True)\n",
      "decoder grad:\n",
      "tensor([[[0., 0., 0., 0., 0.],\n",
      "         [0., 0., 0., 0., 0.],\n",
      "         [0., 0., 0., 0., 0.],\n",
      "         [0., 0., 0., 0., 0.]]])\n"
     ]
    }
   ],
   "source": [
    "transducer_loss = TransducerLoss()\n",
    "loss = transducer_loss(encoder_out=encoder_out,decoder_out=decoder_out,targets=y,input_lengths=T,target_lengths=U,reduction=\"none\",blank=blank_index)\n",
    "\n",
    "print(\"loss:\", loss)\n",
    "loss.mean().backward()\n",
    "\n",
    "print(\"encoder_out:\")\n",
    "print(encoder_out)\n",
    "\n",
    "print(\"encoder grad:\")\n",
    "print(encoder_out.grad)\n",
    "del encoder_out.grad\n",
    "\n",
    "print(\"decoder_out:\")\n",
    "print(decoder_out)\n",
    "\n",
    "print(\"decoder grad:\")\n",
    "print(decoder_out.grad)\n",
    "del decoder_out.grad"
   ]
  },
  {
   "cell_type": "code",
   "execution_count": 111,
   "metadata": {},
   "outputs": [
    {
     "data": {
      "text/plain": [
       "-5.1759"
      ]
     },
     "execution_count": 111,
     "metadata": {},
     "output_type": "execute_result"
    }
   ],
   "source": [
    "-2.7029-2.473"
   ]
  },
  {
   "cell_type": "code",
   "execution_count": null,
   "metadata": {},
   "outputs": [],
   "source": []
  }
 ],
 "metadata": {
  "kernelspec": {
   "display_name": "Python 3",
   "language": "python",
   "name": "python3"
  },
  "language_info": {
   "codemirror_mode": {
    "name": "ipython",
    "version": 3
   },
   "file_extension": ".py",
   "mimetype": "text/x-python",
   "name": "python",
   "nbconvert_exporter": "python",
   "pygments_lexer": "ipython3",
   "version": "3.7.3"
  }
 },
 "nbformat": 4,
 "nbformat_minor": 2
}
